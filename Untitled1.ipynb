{
 "cells": [
  {
   "cell_type": "markdown",
   "metadata": {},
   "source": [
    "# <center>Assignment Data Analyst - Lovoo </center>\n",
    "## <center>Hazel Vanesa Jaime Huerfano</center>\n",
    "#### <center>July 2020</center>"
   ]
  },
  {
   "cell_type": "markdown",
   "metadata": {},
   "source": [
    "Intro\n",
    "Este notebook responde a la necesidad del caso de negocio,as ajsdhsad \n",
    "Consideraciones"
   ]
  },
  {
   "cell_type": "code",
   "execution_count": 228,
   "metadata": {},
   "outputs": [],
   "source": [
    "import pandas as pd\n",
    "import datetime as dt\n",
    "import numpy as np\n",
    "from ipywidgets import interact "
   ]
  },
  {
   "cell_type": "code",
   "execution_count": 229,
   "metadata": {},
   "outputs": [],
   "source": [
    "sign_up=pd.read_csv('sign_up.csv', sep = ',')\n",
    "users=pd.read_csv('users.csv', sep = ',')"
   ]
  },
  {
   "cell_type": "code",
   "execution_count": 230,
   "metadata": {},
   "outputs": [
    {
     "data": {
      "text/html": [
       "<div>\n",
       "<style scoped>\n",
       "    .dataframe tbody tr th:only-of-type {\n",
       "        vertical-align: middle;\n",
       "    }\n",
       "\n",
       "    .dataframe tbody tr th {\n",
       "        vertical-align: top;\n",
       "    }\n",
       "\n",
       "    .dataframe thead th {\n",
       "        text-align: right;\n",
       "    }\n",
       "</style>\n",
       "<table border=\"1\" class=\"dataframe\">\n",
       "  <thead>\n",
       "    <tr style=\"text-align: right;\">\n",
       "      <th></th>\n",
       "      <th>timestamp</th>\n",
       "      <th>user_id</th>\n",
       "      <th>platform</th>\n",
       "      <th>event</th>\n",
       "    </tr>\n",
       "  </thead>\n",
       "  <tbody>\n",
       "    <tr>\n",
       "      <th>0</th>\n",
       "      <td>2020-05-01 18:47:43 UTC</td>\n",
       "      <td>83033166c18d0785dc7ae8496b183a9d</td>\n",
       "      <td>iphone</td>\n",
       "      <td>sign_up</td>\n",
       "    </tr>\n",
       "    <tr>\n",
       "      <th>1</th>\n",
       "      <td>2020-05-01 23:22:51 UTC</td>\n",
       "      <td>721642cdc8d755beb340fe387ce5937b</td>\n",
       "      <td>iphone</td>\n",
       "      <td>sign_up</td>\n",
       "    </tr>\n",
       "    <tr>\n",
       "      <th>2</th>\n",
       "      <td>2020-05-01 06:35:14 UTC</td>\n",
       "      <td>957e7f8d770d010ecff9208dce086993</td>\n",
       "      <td>iphone</td>\n",
       "      <td>sign_up</td>\n",
       "    </tr>\n",
       "    <tr>\n",
       "      <th>3</th>\n",
       "      <td>2020-05-08 19:35:42 UTC</td>\n",
       "      <td>aeb83fa241cc990a31ab45f1d259863e</td>\n",
       "      <td>iphone</td>\n",
       "      <td>sign_up</td>\n",
       "    </tr>\n",
       "    <tr>\n",
       "      <th>4</th>\n",
       "      <td>2020-05-08 00:49:33 UTC</td>\n",
       "      <td>59c509abfb256c9aa5e7db0c655a2fd6</td>\n",
       "      <td>iphone</td>\n",
       "      <td>sign_up</td>\n",
       "    </tr>\n",
       "  </tbody>\n",
       "</table>\n",
       "</div>"
      ],
      "text/plain": [
       "                 timestamp                           user_id platform    event\n",
       "0  2020-05-01 18:47:43 UTC  83033166c18d0785dc7ae8496b183a9d   iphone  sign_up\n",
       "1  2020-05-01 23:22:51 UTC  721642cdc8d755beb340fe387ce5937b   iphone  sign_up\n",
       "2  2020-05-01 06:35:14 UTC  957e7f8d770d010ecff9208dce086993   iphone  sign_up\n",
       "3  2020-05-08 19:35:42 UTC  aeb83fa241cc990a31ab45f1d259863e   iphone  sign_up\n",
       "4  2020-05-08 00:49:33 UTC  59c509abfb256c9aa5e7db0c655a2fd6   iphone  sign_up"
      ]
     },
     "execution_count": 230,
     "metadata": {},
     "output_type": "execute_result"
    }
   ],
   "source": [
    "sign_up.head()"
   ]
  },
  {
   "cell_type": "code",
   "execution_count": 231,
   "metadata": {},
   "outputs": [
    {
     "data": {
      "text/html": [
       "<div>\n",
       "<style scoped>\n",
       "    .dataframe tbody tr th:only-of-type {\n",
       "        vertical-align: middle;\n",
       "    }\n",
       "\n",
       "    .dataframe tbody tr th {\n",
       "        vertical-align: top;\n",
       "    }\n",
       "\n",
       "    .dataframe thead th {\n",
       "        text-align: right;\n",
       "    }\n",
       "</style>\n",
       "<table border=\"1\" class=\"dataframe\">\n",
       "  <thead>\n",
       "    <tr style=\"text-align: right;\">\n",
       "      <th></th>\n",
       "      <th>user_id</th>\n",
       "      <th>gender</th>\n",
       "    </tr>\n",
       "  </thead>\n",
       "  <tbody>\n",
       "    <tr>\n",
       "      <th>0</th>\n",
       "      <td>645f3dd935b9771f9c09759fcbeec33e</td>\n",
       "      <td>f</td>\n",
       "    </tr>\n",
       "    <tr>\n",
       "      <th>1</th>\n",
       "      <td>e41eca12083b4c48c88f40b0fe7fa4ee</td>\n",
       "      <td>f</td>\n",
       "    </tr>\n",
       "    <tr>\n",
       "      <th>2</th>\n",
       "      <td>b9ecf8618ce2313627955cfca2befe4b</td>\n",
       "      <td>f</td>\n",
       "    </tr>\n",
       "    <tr>\n",
       "      <th>3</th>\n",
       "      <td>87d2074ed55bd70565a9d8476382937c</td>\n",
       "      <td>f</td>\n",
       "    </tr>\n",
       "    <tr>\n",
       "      <th>4</th>\n",
       "      <td>ddfd4dc0eb7d07a2c3a15baa8e2d0c83</td>\n",
       "      <td>f</td>\n",
       "    </tr>\n",
       "  </tbody>\n",
       "</table>\n",
       "</div>"
      ],
      "text/plain": [
       "                            user_id gender\n",
       "0  645f3dd935b9771f9c09759fcbeec33e      f\n",
       "1  e41eca12083b4c48c88f40b0fe7fa4ee      f\n",
       "2  b9ecf8618ce2313627955cfca2befe4b      f\n",
       "3  87d2074ed55bd70565a9d8476382937c      f\n",
       "4  ddfd4dc0eb7d07a2c3a15baa8e2d0c83      f"
      ]
     },
     "execution_count": 231,
     "metadata": {},
     "output_type": "execute_result"
    }
   ],
   "source": [
    "users.head()"
   ]
  },
  {
   "cell_type": "code",
   "execution_count": 207,
   "metadata": {},
   "outputs": [
    {
     "data": {
      "text/plain": [
       "timestamp    object\n",
       "user_id      object\n",
       "platform     object\n",
       "event        object\n",
       "dtype: object"
      ]
     },
     "execution_count": 207,
     "metadata": {},
     "output_type": "execute_result"
    }
   ],
   "source": [
    "sign_up.dtypes"
   ]
  },
  {
   "cell_type": "code",
   "execution_count": 233,
   "metadata": {},
   "outputs": [
    {
     "data": {
      "text/plain": [
       "user_id    object\n",
       "gender     object\n",
       "dtype: object"
      ]
     },
     "execution_count": 233,
     "metadata": {},
     "output_type": "execute_result"
    }
   ],
   "source": [
    "users.dtypes"
   ]
  },
  {
   "cell_type": "code",
   "execution_count": 208,
   "metadata": {},
   "outputs": [
    {
     "data": {
      "text/plain": [
       "(1729, 4)"
      ]
     },
     "execution_count": 208,
     "metadata": {},
     "output_type": "execute_result"
    }
   ],
   "source": [
    "sign_up.shape "
   ]
  },
  {
   "cell_type": "code",
   "execution_count": 234,
   "metadata": {},
   "outputs": [
    {
     "data": {
      "text/plain": [
       "(13910, 2)"
      ]
     },
     "execution_count": 234,
     "metadata": {},
     "output_type": "execute_result"
    }
   ],
   "source": [
    "users.shape "
   ]
  },
  {
   "cell_type": "code",
   "execution_count": 209,
   "metadata": {},
   "outputs": [
    {
     "data": {
      "text/plain": [
       "False"
      ]
     },
     "execution_count": 209,
     "metadata": {},
     "output_type": "execute_result"
    }
   ],
   "source": [
    "sign_up.isnull().values.any()"
   ]
  },
  {
   "cell_type": "code",
   "execution_count": 235,
   "metadata": {},
   "outputs": [
    {
     "data": {
      "text/plain": [
       "False"
      ]
     },
     "execution_count": 235,
     "metadata": {},
     "output_type": "execute_result"
    }
   ],
   "source": [
    "users.isnull().values.any()"
   ]
  },
  {
   "cell_type": "code",
   "execution_count": 238,
   "metadata": {},
   "outputs": [
    {
     "name": "stdout",
     "output_type": "stream",
     "text": [
      "1729\n",
      "1\n",
      "1\n"
     ]
    }
   ],
   "source": [
    "print(sum(sign_up.groupby('user_id')['user_id'].nunique()))\n",
    "print(max(sign_up.groupby('user_id')['user_id'].nunique()))\n",
    "print(min(sign_up.groupby('user_id')['user_id'].nunique()))"
   ]
  },
  {
   "cell_type": "code",
   "execution_count": 239,
   "metadata": {},
   "outputs": [
    {
     "name": "stdout",
     "output_type": "stream",
     "text": [
      "13910\n",
      "1\n",
      "1\n"
     ]
    }
   ],
   "source": [
    "print(sum(users.groupby('user_id')['user_id'].nunique()))\n",
    "print(max(users.groupby('user_id')['user_id'].nunique()))\n",
    "print(min(users.groupby('user_id')['user_id'].nunique()))"
   ]
  },
  {
   "cell_type": "code",
   "execution_count": 240,
   "metadata": {},
   "outputs": [],
   "source": [
    "sign_up1=pd.merge(left=sign_up,right=users, how='left',left_on='user_id', right_on='user_id')"
   ]
  },
  {
   "cell_type": "code",
   "execution_count": 241,
   "metadata": {},
   "outputs": [
    {
     "data": {
      "text/html": [
       "<div>\n",
       "<style scoped>\n",
       "    .dataframe tbody tr th:only-of-type {\n",
       "        vertical-align: middle;\n",
       "    }\n",
       "\n",
       "    .dataframe tbody tr th {\n",
       "        vertical-align: top;\n",
       "    }\n",
       "\n",
       "    .dataframe thead th {\n",
       "        text-align: right;\n",
       "    }\n",
       "</style>\n",
       "<table border=\"1\" class=\"dataframe\">\n",
       "  <thead>\n",
       "    <tr style=\"text-align: right;\">\n",
       "      <th></th>\n",
       "      <th>timestamp</th>\n",
       "      <th>user_id</th>\n",
       "      <th>platform</th>\n",
       "      <th>event</th>\n",
       "      <th>gender</th>\n",
       "    </tr>\n",
       "  </thead>\n",
       "  <tbody>\n",
       "    <tr>\n",
       "      <th>0</th>\n",
       "      <td>2020-05-01 18:47:43 UTC</td>\n",
       "      <td>83033166c18d0785dc7ae8496b183a9d</td>\n",
       "      <td>iphone</td>\n",
       "      <td>sign_up</td>\n",
       "      <td>m</td>\n",
       "    </tr>\n",
       "    <tr>\n",
       "      <th>1</th>\n",
       "      <td>2020-05-01 23:22:51 UTC</td>\n",
       "      <td>721642cdc8d755beb340fe387ce5937b</td>\n",
       "      <td>iphone</td>\n",
       "      <td>sign_up</td>\n",
       "      <td>f</td>\n",
       "    </tr>\n",
       "    <tr>\n",
       "      <th>2</th>\n",
       "      <td>2020-05-01 06:35:14 UTC</td>\n",
       "      <td>957e7f8d770d010ecff9208dce086993</td>\n",
       "      <td>iphone</td>\n",
       "      <td>sign_up</td>\n",
       "      <td>m</td>\n",
       "    </tr>\n",
       "    <tr>\n",
       "      <th>3</th>\n",
       "      <td>2020-05-08 19:35:42 UTC</td>\n",
       "      <td>aeb83fa241cc990a31ab45f1d259863e</td>\n",
       "      <td>iphone</td>\n",
       "      <td>sign_up</td>\n",
       "      <td>m</td>\n",
       "    </tr>\n",
       "    <tr>\n",
       "      <th>4</th>\n",
       "      <td>2020-05-08 00:49:33 UTC</td>\n",
       "      <td>59c509abfb256c9aa5e7db0c655a2fd6</td>\n",
       "      <td>iphone</td>\n",
       "      <td>sign_up</td>\n",
       "      <td>m</td>\n",
       "    </tr>\n",
       "  </tbody>\n",
       "</table>\n",
       "</div>"
      ],
      "text/plain": [
       "                 timestamp                           user_id platform  \\\n",
       "0  2020-05-01 18:47:43 UTC  83033166c18d0785dc7ae8496b183a9d   iphone   \n",
       "1  2020-05-01 23:22:51 UTC  721642cdc8d755beb340fe387ce5937b   iphone   \n",
       "2  2020-05-01 06:35:14 UTC  957e7f8d770d010ecff9208dce086993   iphone   \n",
       "3  2020-05-08 19:35:42 UTC  aeb83fa241cc990a31ab45f1d259863e   iphone   \n",
       "4  2020-05-08 00:49:33 UTC  59c509abfb256c9aa5e7db0c655a2fd6   iphone   \n",
       "\n",
       "     event gender  \n",
       "0  sign_up      m  \n",
       "1  sign_up      f  \n",
       "2  sign_up      m  \n",
       "3  sign_up      m  \n",
       "4  sign_up      m  "
      ]
     },
     "execution_count": 241,
     "metadata": {},
     "output_type": "execute_result"
    }
   ],
   "source": [
    "sign_up1.head()"
   ]
  },
  {
   "cell_type": "code",
   "execution_count": 242,
   "metadata": {},
   "outputs": [
    {
     "data": {
      "text/plain": [
       "False"
      ]
     },
     "execution_count": 242,
     "metadata": {},
     "output_type": "execute_result"
    }
   ],
   "source": [
    "sign_up1.isnull().values.any()"
   ]
  },
  {
   "cell_type": "code",
   "execution_count": 243,
   "metadata": {},
   "outputs": [
    {
     "name": "stdout",
     "output_type": "stream",
     "text": [
      "1729\n",
      "1\n",
      "1\n"
     ]
    }
   ],
   "source": [
    "print(sum(sign_up1.groupby('user_id')['user_id'].nunique()))\n",
    "print(max(sign_up1.groupby('user_id')['user_id'].nunique()))\n",
    "print(min(sign_up1.groupby('user_id')['user_id'].nunique()))"
   ]
  },
  {
   "cell_type": "code",
   "execution_count": 244,
   "metadata": {},
   "outputs": [],
   "source": [
    "def time(timestamp_string):\n",
    "    date_time_obj=dt.datetime.strptime(timestamp_string, '%Y-%m-%d %H:%M:%S %Z')\n",
    "    return date_time_obj"
   ]
  },
  {
   "cell_type": "code",
   "execution_count": 245,
   "metadata": {},
   "outputs": [],
   "source": [
    "def date(timestamp):\n",
    "    date_time_obj=dt.datetime.date(timestamp)\n",
    "    date_time_obj=pd.to_datetime(date_time_obj, format='%Y/%m/%d')\n",
    "    return date_time_obj"
   ]
  },
  {
   "cell_type": "code",
   "execution_count": 246,
   "metadata": {},
   "outputs": [],
   "source": [
    "def hour(timestamp):\n",
    "    date_time_obj=dt.datetime.time(timestamp)\n",
    "    return date_time_obj"
   ]
  },
  {
   "cell_type": "code",
   "execution_count": 252,
   "metadata": {},
   "outputs": [],
   "source": [
    "sign_up1['full_date'] = sign_up1.apply(lambda x: time(x.timestamp), axis = 1)"
   ]
  },
  {
   "cell_type": "code",
   "execution_count": 253,
   "metadata": {},
   "outputs": [],
   "source": [
    "sign_up1['fecha'] = sign_up1.apply(lambda x: date(x.full_date), axis = 1)"
   ]
  },
  {
   "cell_type": "code",
   "execution_count": 254,
   "metadata": {},
   "outputs": [],
   "source": [
    "sign_up1['hora'] = sign_up1.apply(lambda x: hour(x.full_date), axis = 1)"
   ]
  },
  {
   "cell_type": "code",
   "execution_count": 255,
   "metadata": {},
   "outputs": [],
   "source": [
    "sign_up1['Dayofweek'] = sign_up1['fecha'].dt.dayofweek"
   ]
  },
  {
   "cell_type": "code",
   "execution_count": 256,
   "metadata": {},
   "outputs": [
    {
     "data": {
      "text/html": [
       "<div>\n",
       "<style scoped>\n",
       "    .dataframe tbody tr th:only-of-type {\n",
       "        vertical-align: middle;\n",
       "    }\n",
       "\n",
       "    .dataframe tbody tr th {\n",
       "        vertical-align: top;\n",
       "    }\n",
       "\n",
       "    .dataframe thead th {\n",
       "        text-align: right;\n",
       "    }\n",
       "</style>\n",
       "<table border=\"1\" class=\"dataframe\">\n",
       "  <thead>\n",
       "    <tr style=\"text-align: right;\">\n",
       "      <th></th>\n",
       "      <th>timestamp</th>\n",
       "      <th>user_id</th>\n",
       "      <th>platform</th>\n",
       "      <th>event</th>\n",
       "      <th>gender</th>\n",
       "      <th>full_date</th>\n",
       "      <th>fecha</th>\n",
       "      <th>hora</th>\n",
       "      <th>Dayofweek</th>\n",
       "    </tr>\n",
       "  </thead>\n",
       "  <tbody>\n",
       "    <tr>\n",
       "      <th>0</th>\n",
       "      <td>2020-05-01 18:47:43 UTC</td>\n",
       "      <td>83033166c18d0785dc7ae8496b183a9d</td>\n",
       "      <td>iphone</td>\n",
       "      <td>sign_up</td>\n",
       "      <td>m</td>\n",
       "      <td>2020-05-01 18:47:43</td>\n",
       "      <td>2020-05-01</td>\n",
       "      <td>18:47:43</td>\n",
       "      <td>4</td>\n",
       "    </tr>\n",
       "    <tr>\n",
       "      <th>1</th>\n",
       "      <td>2020-05-01 23:22:51 UTC</td>\n",
       "      <td>721642cdc8d755beb340fe387ce5937b</td>\n",
       "      <td>iphone</td>\n",
       "      <td>sign_up</td>\n",
       "      <td>f</td>\n",
       "      <td>2020-05-01 23:22:51</td>\n",
       "      <td>2020-05-01</td>\n",
       "      <td>23:22:51</td>\n",
       "      <td>4</td>\n",
       "    </tr>\n",
       "    <tr>\n",
       "      <th>2</th>\n",
       "      <td>2020-05-01 06:35:14 UTC</td>\n",
       "      <td>957e7f8d770d010ecff9208dce086993</td>\n",
       "      <td>iphone</td>\n",
       "      <td>sign_up</td>\n",
       "      <td>m</td>\n",
       "      <td>2020-05-01 06:35:14</td>\n",
       "      <td>2020-05-01</td>\n",
       "      <td>06:35:14</td>\n",
       "      <td>4</td>\n",
       "    </tr>\n",
       "    <tr>\n",
       "      <th>3</th>\n",
       "      <td>2020-05-08 19:35:42 UTC</td>\n",
       "      <td>aeb83fa241cc990a31ab45f1d259863e</td>\n",
       "      <td>iphone</td>\n",
       "      <td>sign_up</td>\n",
       "      <td>m</td>\n",
       "      <td>2020-05-08 19:35:42</td>\n",
       "      <td>2020-05-08</td>\n",
       "      <td>19:35:42</td>\n",
       "      <td>4</td>\n",
       "    </tr>\n",
       "    <tr>\n",
       "      <th>4</th>\n",
       "      <td>2020-05-08 00:49:33 UTC</td>\n",
       "      <td>59c509abfb256c9aa5e7db0c655a2fd6</td>\n",
       "      <td>iphone</td>\n",
       "      <td>sign_up</td>\n",
       "      <td>m</td>\n",
       "      <td>2020-05-08 00:49:33</td>\n",
       "      <td>2020-05-08</td>\n",
       "      <td>00:49:33</td>\n",
       "      <td>4</td>\n",
       "    </tr>\n",
       "  </tbody>\n",
       "</table>\n",
       "</div>"
      ],
      "text/plain": [
       "                 timestamp                           user_id platform  \\\n",
       "0  2020-05-01 18:47:43 UTC  83033166c18d0785dc7ae8496b183a9d   iphone   \n",
       "1  2020-05-01 23:22:51 UTC  721642cdc8d755beb340fe387ce5937b   iphone   \n",
       "2  2020-05-01 06:35:14 UTC  957e7f8d770d010ecff9208dce086993   iphone   \n",
       "3  2020-05-08 19:35:42 UTC  aeb83fa241cc990a31ab45f1d259863e   iphone   \n",
       "4  2020-05-08 00:49:33 UTC  59c509abfb256c9aa5e7db0c655a2fd6   iphone   \n",
       "\n",
       "     event gender           full_date      fecha      hora  Dayofweek  \n",
       "0  sign_up      m 2020-05-01 18:47:43 2020-05-01  18:47:43          4  \n",
       "1  sign_up      f 2020-05-01 23:22:51 2020-05-01  23:22:51          4  \n",
       "2  sign_up      m 2020-05-01 06:35:14 2020-05-01  06:35:14          4  \n",
       "3  sign_up      m 2020-05-08 19:35:42 2020-05-08  19:35:42          4  \n",
       "4  sign_up      m 2020-05-08 00:49:33 2020-05-08  00:49:33          4  "
      ]
     },
     "execution_count": 256,
     "metadata": {},
     "output_type": "execute_result"
    }
   ],
   "source": [
    "sign_up1.head()"
   ]
  },
  {
   "cell_type": "code",
   "execution_count": 257,
   "metadata": {},
   "outputs": [
    {
     "data": {
      "text/plain": [
       "timestamp            object\n",
       "user_id              object\n",
       "platform             object\n",
       "event                object\n",
       "gender               object\n",
       "full_date    datetime64[ns]\n",
       "fecha        datetime64[ns]\n",
       "hora                 object\n",
       "Dayofweek             int64\n",
       "dtype: object"
      ]
     },
     "execution_count": 257,
     "metadata": {},
     "output_type": "execute_result"
    }
   ],
   "source": [
    "sign_up1.dtypes"
   ]
  },
  {
   "cell_type": "code",
   "execution_count": null,
   "metadata": {},
   "outputs": [],
   "source": [
    "from scipy.stats import norm\n",
    "def plot_function(size = 100, bins = 10, loc=0, scale=1, color='red'):\n",
    "    data = norm.rvs(size=size, loc=loc, scale=scale)\n",
    "    binwidth = (max(data) - min(data))/ bins\n",
    "    plt.hist(data, \n",
    "             bins=np.arange(min(data), max(data) + binwidth, binwidth),\n",
    "             color=color)\n",
    "    plt.show()"
   ]
  },
  {
   "cell_type": "code",
   "execution_count": 276,
   "metadata": {},
   "outputs": [],
   "source": [
    "def plot_punto_1(columns):\n",
    "    if columns==\"Total\":\n",
    "        df_1=pd.pivot_table(sign_up1,index=[\"fecha\"],values=[\"user_id\"],aggfunc='count')\n",
    "        plot = df_1['user_id'].plot()\n",
    "    else: \n",
    "        df_1=pd.pivot_table(sign_up1,index=[\"fecha\"],columns=columns,values=[\"user_id\"],aggfunc='count')\n",
    "        plot = df_1['user_id'].plot()    "
   ]
  },
  {
   "cell_type": "code",
   "execution_count": 277,
   "metadata": {},
   "outputs": [
    {
     "data": {
      "application/vnd.jupyter.widget-view+json": {
       "model_id": "63ab79ced77645949f9678f275c3bdc6",
       "version_major": 2,
       "version_minor": 0
      },
      "text/plain": [
       "interactive(children=(Dropdown(description='columns', options=('platform', 'gender', 'Total'), value='platform…"
      ]
     },
     "metadata": {},
     "output_type": "display_data"
    },
    {
     "data": {
      "text/plain": [
       "<function __main__.plot_punto_1(columns)>"
      ]
     },
     "execution_count": 277,
     "metadata": {},
     "output_type": "execute_result"
    }
   ],
   "source": [
    "interact(plot_punto_1, columns=[\"platform\",\"gender\",\"Total\"])"
   ]
  },
  {
   "cell_type": "code",
   "execution_count": null,
   "metadata": {},
   "outputs": [],
   "source": []
  }
 ],
 "metadata": {
  "kernelspec": {
   "display_name": "Python 3",
   "language": "python",
   "name": "python3"
  },
  "language_info": {
   "codemirror_mode": {
    "name": "ipython",
    "version": 3
   },
   "file_extension": ".py",
   "mimetype": "text/x-python",
   "name": "python",
   "nbconvert_exporter": "python",
   "pygments_lexer": "ipython3",
   "version": "3.7.3"
  }
 },
 "nbformat": 4,
 "nbformat_minor": 2
}
